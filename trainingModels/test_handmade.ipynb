{
 "cells": [
  {
   "cell_type": "code",
   "execution_count": 1,
   "metadata": {},
   "outputs": [],
   "source": [
    "import random\n",
    "import numpy as np\n",
    "import tensorflow as tf\n",
    "import matplotlib.pyplot as plt\n",
    "\n",
    "from tensorflow.keras.datasets import mnist\n",
    "from tensorflow.keras.utils import to_categorical"
   ]
  },
  {
   "cell_type": "code",
   "execution_count": 2,
   "metadata": {},
   "outputs": [],
   "source": [
    "def Dataset_creation():\n",
    "\n",
    "    #MNIST Dataset reading\n",
    "    (x_train_raw, y_train_raw), (x_test_raw, y_test_raw) = mnist.load_data()\n",
    "\n",
    "    x_train_raw = x_train_raw.astype('float32') / 255.0\n",
    "    x_test = x_test_raw.astype('float32') / 255.0\n",
    "    #Adding grayscale channel\n",
    "    #x_train_raw = np.expand_dims(x_train_raw, -1)\n",
    "    #x_test = np.expand_dims(x_test, -1)\n",
    "    #Categorical labels\n",
    "    y_train = to_categorical(y_train_raw)\n",
    "    y_test = to_categorical(y_test_raw)\n",
    "    #Data quantity assigment\n",
    "    x_train = x_train_raw[1:40001,:,:] \n",
    "    y_train = y_train[1:40001,:]\n",
    "    #Applying a matrix transform\n",
    "    x_train = x_train.reshape(40000, 784)\n",
    "\n",
    "    return x_train, y_train, x_test_raw"
   ]
  },
  {
   "cell_type": "code",
   "execution_count": 3,
   "metadata": {},
   "outputs": [],
   "source": [
    "def Initialize_params(model):\n",
    "    parameters = {}\n",
    "    L = len(model)\n",
    "    # Initial hyperparams creation:\n",
    "    for l in range(0, L-1):\n",
    "        parameters['W' + str(l+1)] =  (np.random.rand(model[l],model[l+1]) * 2 ) - 1 # Weights (W)\n",
    "        parameters['b' + str(l+1)] =  (np.random.rand(1,model[l+1]) * 2 ) - 1 # Bias (b)\n",
    "    return parameters"
   ]
  },
  {
   "cell_type": "code",
   "execution_count": 4,
   "metadata": {},
   "outputs": [],
   "source": [
    "######################################## FUNCTIONS ###################################################\n",
    "def mse(y, y_hat, d = False):\n",
    "    if d:\n",
    "        return y_hat-y\n",
    "    else:\n",
    "        return np.mean((y_hat - y)**2)\n",
    "\n",
    "def relu(x, derivate = False):\n",
    "    if derivate:\n",
    "        x[x<=0] = 0\n",
    "        x[x>0] = 1\n",
    "        return x\n",
    "    else:\n",
    "        return np.maximum(0,x)\n",
    "\n",
    "def sigmoid(x, derivate = False):\n",
    "    if derivate:\n",
    "        return np.exp(-x)/((np.exp(-x)+1)**2)\n",
    "    else:\n",
    "        return (1/(1+np.exp(-x)))"
   ]
  },
  {
   "cell_type": "code",
   "execution_count": 5,
   "metadata": {},
   "outputs": [],
   "source": [
    "######################################## TRAINING ###################################################\n",
    "def Forward(params, x_data):\n",
    "\n",
    "    params['A0'] = x_data\n",
    "\n",
    "    params['Z1'] = (params['A0']@params['W1']) + params['b1'] \n",
    "    params['A1'] = relu( params['Z1']) \n",
    "\n",
    "    params['Z2'] = (params['A1']@params['W2']) + params['b2'] \n",
    "    params['A2'] = relu(params['Z2'])\n",
    "\n",
    "    params['Z3'] = (params['A2']@params['W3']) + params['b3'] \n",
    "    params['A3'] = sigmoid(params['Z3'])\n",
    "\n",
    "    output = params['A3']\n",
    "\n",
    "    return params, output"
   ]
  },
  {
   "cell_type": "code",
   "execution_count": 6,
   "metadata": {},
   "outputs": [],
   "source": [
    "def BackPropagation(params, y_train, d):\n",
    "    params['dZ3'] = mse(y_train, params['A3'], d) * sigmoid(params['A3'], d)\n",
    "    params['dW3'] = params['A2'].T@params['dZ3']\n",
    "\n",
    "    params['dZ2'] = params['dZ3']@params['W3'].T * relu(params['A2'], d)\n",
    "    params['dW2'] = params['A1'].T@params['dZ2']\n",
    "\n",
    "    params['dZ1'] = params['dZ2']@params['W2'].T * relu(params['A1'], d)\n",
    "    params['dW1'] = params['A0'].T@params['dZ1']\n",
    "\n",
    "    return params"
   ]
  },
  {
   "cell_type": "code",
   "execution_count": 7,
   "metadata": {},
   "outputs": [],
   "source": [
    "def WeightAdjust(params, lr):\n",
    "    params['W3'] = params['W3'] - params['dW3'] *  lr\n",
    "    params['b3'] = params['b3'] - (np.mean(params['dZ3'], axis=0, keepdims=True)) * lr\n",
    "\n",
    "    params['W2'] = params['W2'] - params['dW2'] *  lr\n",
    "    params['b2'] = params['b2'] - (np.mean(params['dZ2'], axis=0, keepdims=True)) * lr\n",
    "\n",
    "    params['W1'] = params['W1'] - params['dW1'] *  lr\n",
    "    params['b1'] = params['b1'] - (np.mean(params['dZ1'], axis=0, keepdims=True)) * lr\n",
    "\n",
    "    return params"
   ]
  },
  {
   "cell_type": "code",
   "execution_count": 8,
   "metadata": {},
   "outputs": [
    {
     "name": "stderr",
     "output_type": "stream",
     "text": [
      "<ipython-input-4-80238a11f680>:20: RuntimeWarning: overflow encountered in exp\n",
      "  return (1/(1+np.exp(-x)))\n"
     ]
    },
    {
     "name": "stdout",
     "output_type": "stream",
     "text": [
      "MSE: 0.17617723189603762\n"
     ]
    },
    {
     "data": {
      "text/plain": [
       "[<matplotlib.lines.Line2D at 0x7f20970060a0>]"
      ]
     },
     "execution_count": 8,
     "metadata": {},
     "output_type": "execute_result"
    },
    {
     "data": {
      "image/png": "[encoded data removed]",
      "text/plain": [
       "<Figure size 432x288 with 1 Axes>"
      ]
     },
     "metadata": {
      "needs_background": "light"
     },
     "output_type": "display_data"
    }
   ],
   "source": [
    "x_train, y_train, x_test_raw = Dataset_creation()\n",
    "\n",
    "# Neural network construction\n",
    "model = [784, 16, 8, 10]    #NN Dimensions:\n",
    "                            #784 Vector\n",
    "                            #16 Neuron in 1st hidden layer\n",
    "                            #8 Neuron in 1st hidden layer\n",
    "                            #10 Output classes\n",
    "\n",
    "#Random parameters initialization\n",
    "params = Initialize_params(model)\n",
    "\n",
    "#Learning rate and epochs\n",
    "lr = 0.1\n",
    "epochs = 20\n",
    "error = []\n",
    "\n",
    "#Training\n",
    "i = 0\n",
    "while i <= epochs:\n",
    "    params, output = Forward(params, x_train)\n",
    "    params = BackPropagation(params, y_train, d=True)\n",
    "    params = WeightAdjust(params, lr)\n",
    "    error.append(mse(y_train, output))\n",
    "    i += 1\n",
    "\n",
    "#Plot errors vs epochs\n",
    "print(f'MSE: {error.pop()}')\n",
    "plt.plot(error)"
   ]
  }
 ],
 "metadata": {
  "interpreter": {
   "hash": "8a3d14a28e5ec6edcbee6cfdbf3a2b77890d2e73a388a91b2faedacfd25a1069"
  },
  "kernelspec": {
   "display_name": "Python 3.9.7 ('labIA')",
   "language": "python",
   "name": "python3"
  },
  "language_info": {
   "codemirror_mode": {
    "name": "ipython",
    "version": 3
   },
   "file_extension": ".py",
   "mimetype": "text/x-python",
   "name": "python",
   "nbconvert_exporter": "python",
   "pygments_lexer": "ipython3",
   "version": "3.9.7"
  },
  "orig_nbformat": 4
 },
 "nbformat": 4,
 "nbformat_minor": 2
}
